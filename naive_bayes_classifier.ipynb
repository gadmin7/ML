{
 "cells": [
  {
   "cell_type": "code",
   "execution_count": 1,
   "id": "45216c95",
   "metadata": {},
   "outputs": [],
   "source": [
    "# import libraries\n",
    "import pandas as pd\n",
    "import math"
   ]
  },
  {
   "cell_type": "code",
   "execution_count": 2,
   "id": "18ff7a72",
   "metadata": {},
   "outputs": [
    {
     "name": "stdout",
     "output_type": "stream",
     "text": [
      "(14, 5)\n"
     ]
    },
    {
     "data": {
      "text/html": [
       "<div>\n",
       "<style scoped>\n",
       "    .dataframe tbody tr th:only-of-type {\n",
       "        vertical-align: middle;\n",
       "    }\n",
       "\n",
       "    .dataframe tbody tr th {\n",
       "        vertical-align: top;\n",
       "    }\n",
       "\n",
       "    .dataframe thead th {\n",
       "        text-align: right;\n",
       "    }\n",
       "</style>\n",
       "<table border=\"1\" class=\"dataframe\">\n",
       "  <thead>\n",
       "    <tr style=\"text-align: right;\">\n",
       "      <th></th>\n",
       "      <th>Outlook</th>\n",
       "      <th>Temperature</th>\n",
       "      <th>Humidity</th>\n",
       "      <th>Windy</th>\n",
       "      <th>Play</th>\n",
       "    </tr>\n",
       "  </thead>\n",
       "  <tbody>\n",
       "    <tr>\n",
       "      <th>0</th>\n",
       "      <td>sunny</td>\n",
       "      <td>hot</td>\n",
       "      <td>high</td>\n",
       "      <td>False</td>\n",
       "      <td>no</td>\n",
       "    </tr>\n",
       "    <tr>\n",
       "      <th>1</th>\n",
       "      <td>sunny</td>\n",
       "      <td>hot</td>\n",
       "      <td>high</td>\n",
       "      <td>True</td>\n",
       "      <td>no</td>\n",
       "    </tr>\n",
       "    <tr>\n",
       "      <th>2</th>\n",
       "      <td>overcast</td>\n",
       "      <td>hot</td>\n",
       "      <td>high</td>\n",
       "      <td>False</td>\n",
       "      <td>yes</td>\n",
       "    </tr>\n",
       "    <tr>\n",
       "      <th>3</th>\n",
       "      <td>rainy</td>\n",
       "      <td>mild</td>\n",
       "      <td>high</td>\n",
       "      <td>False</td>\n",
       "      <td>yes</td>\n",
       "    </tr>\n",
       "    <tr>\n",
       "      <th>4</th>\n",
       "      <td>rainy</td>\n",
       "      <td>cool</td>\n",
       "      <td>normal</td>\n",
       "      <td>False</td>\n",
       "      <td>yes</td>\n",
       "    </tr>\n",
       "  </tbody>\n",
       "</table>\n",
       "</div>"
      ],
      "text/plain": [
       "    Outlook Temperature Humidity  Windy Play\n",
       "0     sunny         hot     high  False   no\n",
       "1     sunny         hot     high   True   no\n",
       "2  overcast         hot     high  False  yes\n",
       "3     rainy        mild     high  False  yes\n",
       "4     rainy        cool   normal  False  yes"
      ]
     },
     "execution_count": 2,
     "metadata": {},
     "output_type": "execute_result"
    }
   ],
   "source": [
    "# reading the dataframe\n",
    "df = pd.read_csv(\"golf_df.csv\")\n",
    "print(df.shape)\n",
    "df.head()"
   ]
  },
  {
   "cell_type": "code",
   "execution_count": 3,
   "id": "d73eedd6",
   "metadata": {},
   "outputs": [
    {
     "name": "stdout",
     "output_type": "stream",
     "text": [
      "(12, 4) (2, 4)\n"
     ]
    }
   ],
   "source": [
    "# train test split\n",
    "train = df[:(math.ceil(df.shape[0]*0.8))]\n",
    "test = df[(math.ceil(df.shape[0]*0.8)):]\n",
    "\n",
    "X_train = train.drop(['Play'],axis=1)\n",
    "y_train = train['Play']\n",
    "\n",
    "X_test = test.drop(['Play'],axis=1)\n",
    "y_test = test['Play']\n",
    "\n",
    "print(X_train.shape,X_test.shape)"
   ]
  },
  {
   "cell_type": "code",
   "execution_count": 4,
   "id": "30329a3e",
   "metadata": {},
   "outputs": [],
   "source": [
    "def learning(df,X,y,test):\n",
    "    #computing prior probability\n",
    "    prior_prob = {}\n",
    "    for var in y.unique():\n",
    "        temp = y[ y == var].count()/y.count()\n",
    "        prior_prob[var] = temp\n",
    "    \n",
    "    # learning phase\n",
    "    learning = {}\n",
    "    target = y.name\n",
    "    for col in df.columns:\n",
    "        if col != y.name:\n",
    "            temp = pd.DataFrame(df.groupby([col,target]).count()/df.groupby([target]).count()).drop(col,axis=1).reset_index()\n",
    "            temp = temp[temp.columns[:3]].rename(columns={temp.columns[2]:\"Value\"})\n",
    "            learning[col] = temp\n",
    "            \n",
    "    # prediction\n",
    "    class_prob = {}\n",
    "    for var in y.unique():\n",
    "        product = 1\n",
    "        for col in X.columns:\n",
    "            try:\n",
    "                temp = learning[col].loc[(learning[col][col] == test[col])&(learning[col][target] == var)]['Value'].values[0]\n",
    "            except Exception as e:\n",
    "                temp = 0\n",
    "            product = product * temp\n",
    "        product = product * prior_prob[var]\n",
    "        class_prob[product] = var\n",
    "    \n",
    "    print(class_prob)\n",
    "    max_ = max(class_prob.keys())\n",
    "    return class_prob[max_]"
   ]
  },
  {
   "cell_type": "code",
   "execution_count": 5,
   "id": "8d42189a",
   "metadata": {},
   "outputs": [
    {
     "name": "stdout",
     "output_type": "stream",
     "text": [
      "{0.0: 'no', 0.029263831732967528: 'yes'}\n",
      "{0.025600000000000005: 'no', 0.010973936899862823: 'yes'}\n"
     ]
    }
   ],
   "source": [
    "# predictions\n",
    "y_pred = []\n",
    "for index, row in X_test.iterrows():\n",
    "    y_pred.append(learning(df, X_train ,y_train ,row.to_dict()))"
   ]
  },
  {
   "cell_type": "code",
   "execution_count": 6,
   "id": "2cd01b07",
   "metadata": {},
   "outputs": [
    {
     "data": {
      "text/plain": [
       "['yes', 'no']"
      ]
     },
     "execution_count": 6,
     "metadata": {},
     "output_type": "execute_result"
    }
   ],
   "source": [
    "y_pred"
   ]
  },
  {
   "cell_type": "code",
   "execution_count": 8,
   "id": "0aeecab3",
   "metadata": {},
   "outputs": [
    {
     "data": {
      "text/plain": [
       "['yes', 'no']"
      ]
     },
     "execution_count": 8,
     "metadata": {},
     "output_type": "execute_result"
    }
   ],
   "source": [
    "y_test.tolist()"
   ]
  },
  {
   "cell_type": "code",
   "execution_count": null,
   "id": "0f00f271",
   "metadata": {},
   "outputs": [],
   "source": []
  }
 ],
 "metadata": {
  "kernelspec": {
   "display_name": "nlpdri",
   "language": "python",
   "name": "nlpdri"
  },
  "language_info": {
   "codemirror_mode": {
    "name": "ipython",
    "version": 3
   },
   "file_extension": ".py",
   "mimetype": "text/x-python",
   "name": "python",
   "nbconvert_exporter": "python",
   "pygments_lexer": "ipython3",
   "version": "3.7.3"
  }
 },
 "nbformat": 4,
 "nbformat_minor": 5
}
